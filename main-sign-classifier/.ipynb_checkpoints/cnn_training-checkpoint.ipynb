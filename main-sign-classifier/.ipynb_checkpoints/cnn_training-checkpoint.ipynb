{
 "cells": [
  {
   "cell_type": "code",
   "execution_count": 1,
   "id": "45c90cf9",
   "metadata": {},
   "outputs": [],
   "source": [
    "from tensorflow.keras import layers, models\n",
    "import numpy as np\n",
    "import cv2\n",
    "import os\n",
    "import matplotlib.pyplot as plt\n",
    "import random"
   ]
  },
  {
   "cell_type": "code",
   "execution_count": 2,
   "id": "5017b7d6",
   "metadata": {},
   "outputs": [
    {
     "ename": "FileNotFoundError",
     "evalue": "[WinError 3] System nie może odnaleźć określonej ścieżki: 'C:\\\\Users\\\\lenovo\\\\Desktop\\\\main-sign-classifier\\\\data\\\\A-18bB-20'",
     "output_type": "error",
     "traceback": [
      "\u001b[1;31m---------------------------------------------------------------------------\u001b[0m",
      "\u001b[1;31mFileNotFoundError\u001b[0m                         Traceback (most recent call last)",
      "\u001b[1;32m<ipython-input-2-7b42bca27a21>\u001b[0m in \u001b[0;36m<module>\u001b[1;34m\u001b[0m\n\u001b[0;32m      4\u001b[0m \u001b[1;32mfor\u001b[0m \u001b[0mcategory\u001b[0m \u001b[1;32min\u001b[0m \u001b[0mCATEGORIES\u001b[0m\u001b[1;33m:\u001b[0m\u001b[1;33m\u001b[0m\u001b[1;33m\u001b[0m\u001b[0m\n\u001b[0;32m      5\u001b[0m     \u001b[0mpath\u001b[0m \u001b[1;33m=\u001b[0m \u001b[0mos\u001b[0m\u001b[1;33m.\u001b[0m\u001b[0mpath\u001b[0m\u001b[1;33m.\u001b[0m\u001b[0mjoin\u001b[0m\u001b[1;33m(\u001b[0m\u001b[0mDATADIR\u001b[0m\u001b[1;33m,\u001b[0m \u001b[0mcategory\u001b[0m\u001b[1;33m)\u001b[0m\u001b[1;33m\u001b[0m\u001b[1;33m\u001b[0m\u001b[0m\n\u001b[1;32m----> 6\u001b[1;33m     \u001b[1;32mfor\u001b[0m \u001b[0mimg\u001b[0m \u001b[1;32min\u001b[0m \u001b[0mos\u001b[0m\u001b[1;33m.\u001b[0m\u001b[0mlistdir\u001b[0m\u001b[1;33m(\u001b[0m\u001b[0mpath\u001b[0m\u001b[1;33m)\u001b[0m\u001b[1;33m:\u001b[0m\u001b[1;33m\u001b[0m\u001b[1;33m\u001b[0m\u001b[0m\n\u001b[0m\u001b[0;32m      7\u001b[0m         \u001b[0mimg_array\u001b[0m \u001b[1;33m=\u001b[0m \u001b[0mcv2\u001b[0m\u001b[1;33m.\u001b[0m\u001b[0mimread\u001b[0m\u001b[1;33m(\u001b[0m\u001b[0mos\u001b[0m\u001b[1;33m.\u001b[0m\u001b[0mpath\u001b[0m\u001b[1;33m.\u001b[0m\u001b[0mjoin\u001b[0m\u001b[1;33m(\u001b[0m\u001b[0mpath\u001b[0m\u001b[1;33m,\u001b[0m\u001b[0mimg\u001b[0m\u001b[1;33m)\u001b[0m\u001b[1;33m,\u001b[0m \u001b[0mcv2\u001b[0m\u001b[1;33m.\u001b[0m\u001b[0mCOLOR_BGR2RGB\u001b[0m\u001b[1;33m)\u001b[0m\u001b[1;33m\u001b[0m\u001b[1;33m\u001b[0m\u001b[0m\n",
      "\u001b[1;31mFileNotFoundError\u001b[0m: [WinError 3] System nie może odnaleźć określonej ścieżki: 'C:\\\\Users\\\\lenovo\\\\Desktop\\\\main-sign-classifier\\\\data\\\\A-18bB-20'"
     ]
    }
   ],
   "source": [
    "#50 oraz 60\n",
    "CATEGORIES = [\"50\", \"60\",\"A-1\",\"A-2\",\"A-3\",\"A-4\", \"A-7\",\"A-18b\" \"B-20\", \"B-42\",\"C-5\", \"D-1\",\"D-3\", \"D-42\", \"D-43\"]\n",
    "DATADIR = r\"C:\\Users\\lenovo\\Desktop\\main-sign-classifier\\data\"\n",
    "for category in CATEGORIES:\n",
    "    path = os.path.join(DATADIR, category)\n",
    "    for img in os.listdir(path):\n",
    "        img_array = cv2.imread(os.path.join(path,img), cv2.COLOR_BGR2RGB)"
   ]
  },
  {
   "cell_type": "code",
   "execution_count": null,
   "id": "7581e9a5",
   "metadata": {},
   "outputs": [],
   "source": [
    "print(img_array.shape)"
   ]
  },
  {
   "cell_type": "code",
   "execution_count": null,
   "id": "d1691a12",
   "metadata": {},
   "outputs": [],
   "source": [
    "data = []\n",
    "def fetch_data():\n",
    "    for category in CATEGORIES:\n",
    "        path = os.path.join(DATADIR, category)\n",
    "        class_num = CATEGORIES.index(category)\n",
    "        for img in os.listdir(path):\n",
    "            try:\n",
    "                img_array = cv2.imread(os.path.join(path,img))\n",
    "                img_array = cv2.resize(img_array, (28, 28))\n",
    "                img_array = cv2.cvtColor(img_array, cv2.COLOR_BGR2RGB)\n",
    "                data.append([img_array, class_num])\n",
    "            except Exception as e:\n",
    "                pass\n",
    "fetch_data()\n",
    "random.shuffle(data)"
   ]
  },
  {
   "cell_type": "code",
   "execution_count": null,
   "id": "8cc654a4",
   "metadata": {},
   "outputs": [],
   "source": [
    "plt.imshow(data[116][0])\n",
    "plt.show()"
   ]
  },
  {
   "cell_type": "code",
   "execution_count": null,
   "id": "2a77a926",
   "metadata": {},
   "outputs": [],
   "source": [
    "print(len(data))"
   ]
  },
  {
   "cell_type": "code",
   "execution_count": null,
   "id": "211be4a3",
   "metadata": {},
   "outputs": [],
   "source": [
    "# split data into 2 arrays, one with images, and 2nd with labels\n",
    "images = []\n",
    "labels = []\n",
    "\n",
    "for features, label in data:\n",
    "    images.append(features)\n",
    "    labels.append(label)\n",
    "images = np.array(images).reshape(-1, 28, 28, 3)"
   ]
  },
  {
   "cell_type": "code",
   "execution_count": null,
   "id": "4c456ab6",
   "metadata": {},
   "outputs": [],
   "source": [
    "training_images = images[:1550]\n",
    "training_labels = labels[:1550]\n",
    "testing_images = images[1550:]\n",
    "testing_labels = labels[1550:]\n",
    "\n",
    "training_images = np.array(training_images)\n",
    "training_labels = np.array(training_labels)\n",
    "testing_images = np.array(testing_images)\n",
    "testing_labels = np.array(testing_labels)"
   ]
  },
  {
   "cell_type": "code",
   "execution_count": null,
   "id": "2164b976",
   "metadata": {},
   "outputs": [],
   "source": [
    "model = models.Sequential()\n",
    "model.add(layers.Conv2D(28, (3,3), activation='relu', input_shape=(28,28,3)))\n",
    "model.add(layers.MaxPooling2D((2,2)))\n",
    "model.add(layers.Conv2D(56,(3,3), activation='relu'))\n",
    "model.add(layers.MaxPooling2D((2,2)))\n",
    "model.add(layers.Conv2D(56, (3,3), activation='relu'))\n",
    "model.add(layers.Flatten())\n",
    "model.add(layers.Dense(56, activation='relu'))\n",
    "model.add(layers.Dense(15, activation='softmax'))\n",
    "\n",
    "model.compile(optimizer='adam', loss='sparse_categorical_crossentropy', metrics=['accuracy'])\n",
    "\n",
    "model.fit(training_images, training_labels, epochs=8, validation_data=(testing_images, testing_labels))\n",
    "\n",
    "\n"
   ]
  },
  {
   "cell_type": "code",
   "execution_count": null,
   "id": "3df5110e",
   "metadata": {},
   "outputs": [],
   "source": [
    "loss, accuracy = model.evaluate(testing_images, testing_labels)\n",
    "print(f\"accuracy:{accuracy}\")\n",
    "print(f\"loss:{loss}\")\n",
    "\n",
    "model.save(\"sign_50_60_classifier.model\")"
   ]
  },
  {
   "cell_type": "code",
   "execution_count": null,
   "id": "fce46690",
   "metadata": {},
   "outputs": [],
   "source": [
    "img_test1 = cv2.imread(r\"C:\\Users\\lenovo\\Desktop\\limit-speed-classifier\\fast_test_data\\test_50_1.jpg\")\n",
    "img_test2 = cv2.imread(r\"C:\\Users\\lenovo\\Desktop\\limit-speed-classifier\\fast_test_data\\test_50_2.png\")\n",
    "img_test3 = cv2.imread(r\"C:\\Users\\lenovo\\Desktop\\limit-speed-classifier\\fast_test_data\\test_60_3.png\")\n",
    "img_test5 = cv2.imread(r\"C:\\Users\\lenovo\\Desktop\\limit-speed-classifier\\fast_test_data\\test_60_5.png\")\n",
    "img_test6 = cv2.imread(r\"C:\\Users\\lenovo\\Desktop\\limit-speed-classifier\\fast_test_data\\test_50_6.png\")\n",
    "img_test7 = cv2.imread(r\"C:\\Users\\lenovo\\Desktop\\limit-speed-classifier\\fast_test_data\\test_50_7.png\")\n",
    "img_testd42 = cv2.imread(r\"C:\\Users\\lenovo\\Desktop\\limit-speed-classifier\\fast_test_data\\test_d42.png\")\n",
    "img_pierw = cv2.imread(r\"C:\\Users\\lenovo\\Desktop\\limit-speed-classifier\\fast_test_data\\testpierw.png\")\n",
    "img_jednokier = cv2.imread(r\"C:\\Users\\lenovo\\Desktop\\limit-speed-classifier\\fast_test_data\\jednokier.png\")\n",
    "\n",
    "img_test1 = cv2.resize(img_test1, (28, 28))\n",
    "img_test1 = cv2.cvtColor(img_test1, cv2.COLOR_BGR2RGB)\n",
    "img_test2 = cv2.resize(img_test2, (28, 28))\n",
    "img_test2 = cv2.cvtColor(img_test2, cv2.COLOR_BGR2RGB)\n",
    "img_test3 = cv2.resize(img_test3, (28, 28))\n",
    "img_test3 = cv2.cvtColor(img_test3, cv2.COLOR_BGR2RGB)\n",
    "img_test5 = cv2.resize(img_test5, (28, 28))\n",
    "img_test5 = cv2.cvtColor(img_test5, cv2.COLOR_BGR2RGB)\n",
    "img_test6 = cv2.resize(img_test6, (28, 28))\n",
    "img_test6 = cv2.cvtColor(img_test6, cv2.COLOR_BGR2RGB)\n",
    "\n",
    "img_testd42 = cv2.resize(img_testd42, (28, 28))\n",
    "img_testd42 = cv2.cvtColor(img_testd42, cv2.COLOR_BGR2RGB)\n",
    "\n",
    "\n",
    "img_test7 = cv2.resize(img_test7, (28, 28))\n",
    "img_test7 = cv2.cvtColor(img_test7, cv2.COLOR_BGR2RGB)\n",
    "\n",
    "img_pierw = cv2.resize(img_pierw, (28, 28))\n",
    "img_pierw = cv2.cvtColor(img_pierw, cv2.COLOR_BGR2RGB)\n",
    "\n",
    "img_jednokier = cv2.resize(img_jednokier, (28, 28))\n",
    "img_jednokier = cv2.cvtColor(img_jednokier, cv2.COLOR_BGR2RGB)\n",
    "\n",
    "\n",
    "\n",
    "\n",
    "\n",
    "plt.imshow(img_jednokier)\n",
    "plt.show()\n",
    "\n",
    "\n",
    "\n",
    "prediction = model.predict(np.array([img_jednokier]))\n",
    "index = np.argmax(prediction)\n",
    "print(index)\n",
    "print(f'predicition is {CATEGORIES[index]}')\n"
   ]
  },
  {
   "cell_type": "code",
   "execution_count": null,
   "id": "0782d732",
   "metadata": {},
   "outputs": [],
   "source": []
  }
 ],
 "metadata": {
  "kernelspec": {
   "display_name": "Python 3",
   "language": "python",
   "name": "python3"
  },
  "language_info": {
   "codemirror_mode": {
    "name": "ipython",
    "version": 3
   },
   "file_extension": ".py",
   "mimetype": "text/x-python",
   "name": "python",
   "nbconvert_exporter": "python",
   "pygments_lexer": "ipython3",
   "version": "3.8.8"
  }
 },
 "nbformat": 4,
 "nbformat_minor": 5
}
