{
 "cells": [
  {
   "cell_type": "code",
   "execution_count": 1,
   "id": "45c90cf9",
   "metadata": {},
   "outputs": [],
   "source": [
    "from tensorflow.keras import layers, models\n",
    "import numpy as np\n",
    "import cv2\n",
    "import os\n",
    "import matplotlib.pyplot as plt\n",
    "import random"
   ]
  },
  {
   "cell_type": "code",
   "execution_count": 2,
   "id": "5017b7d6",
   "metadata": {},
   "outputs": [],
   "source": [
    "#50 oraz 60\n",
    "CATEGORIES = [\"50\", \"60\",\"A-1\",\"A-2\",\"A-3\",\"A-4\", \"A-7\",\"A-18b\", \"B-20\", \"B-42\",\"C-5\", \"D-1\",\"D-3\", \"D-42\", \"D-43\"]\n",
    "DATADIR = r\"C:\\Users\\lenovo\\Desktop\\main-sign-classifier\\data\"\n",
    "for category in CATEGORIES:\n",
    "    path = os.path.join(DATADIR, category)\n",
    "    for img in os.listdir(path):\n",
    "        img_array = cv2.imread(os.path.join(path,img), cv2.COLOR_BGR2RGB)"
   ]
  },
  {
   "cell_type": "code",
   "execution_count": 4,
   "id": "d1691a12",
   "metadata": {},
   "outputs": [],
   "source": [
    "data = []\n",
    "def fetch_data():\n",
    "    for category in CATEGORIES:\n",
    "        path = os.path.join(DATADIR, category)\n",
    "        class_num = CATEGORIES.index(category)\n",
    "        for img in os.listdir(path):\n",
    "            try:\n",
    "                img_array = cv2.imread(os.path.join(path,img))\n",
    "                img_array = cv2.resize(img_array, (28, 28))\n",
    "                img_array = cv2.cvtColor(img_array, cv2.COLOR_BGR2RGB)\n",
    "                data.append([img_array, class_num])\n",
    "            except Exception as e:\n",
    "                pass\n",
    "fetch_data()\n",
    "random.shuffle(data)"
   ]
  },
  {
   "cell_type": "code",
   "execution_count": 5,
   "id": "8cc654a4",
   "metadata": {},
   "outputs": [
    {
     "data": {
      "image/png": "[encoded data removed]",
      "text/plain": [
       "<Figure size 432x288 with 1 Axes>"
      ]
     },
     "metadata": {
      "needs_background": "light"
     },
     "output_type": "display_data"
    }
   ],
   "source": [
    "plt.imshow(data[116][0])\n",
    "plt.show()"
   ]
  },
  {
   "cell_type": "code",
   "execution_count": 6,
   "id": "2a77a926",
   "metadata": {},
   "outputs": [
    {
     "name": "stdout",
     "output_type": "stream",
     "text": [
      "2718\n"
     ]
    }
   ],
   "source": [
    "print(len(data))"
   ]
  },
  {
   "cell_type": "code",
   "execution_count": 7,
   "id": "211be4a3",
   "metadata": {},
   "outputs": [],
   "source": [
    "# split data into 2 arrays, one with images, and 2nd with labels\n",
    "images = []\n",
    "labels = []\n",
    "\n",
    "for features, label in data:\n",
    "    images.append(features)\n",
    "    labels.append(label)\n",
    "images = np.array(images).reshape(-1, 28, 28, 3)"
   ]
  },
  {
   "cell_type": "code",
   "execution_count": 8,
   "id": "4c456ab6",
   "metadata": {},
   "outputs": [],
   "source": [
    "#about 80% for training and 20% for testing\n",
    "\n",
    "training_images = images[:2200]\n",
    "training_labels = labels[:2200]\n",
    "testing_images = images[2200:]\n",
    "testing_labels = labels[2200:]\n",
    "\n",
    "training_images = np.array(training_images)\n",
    "training_labels = np.array(training_labels)\n",
    "testing_images = np.array(testing_images)\n",
    "testing_labels = np.array(testing_labels)"
   ]
  },
  {
   "cell_type": "code",
   "execution_count": 12,
   "id": "2164b976",
   "metadata": {},
   "outputs": [
    {
     "name": "stdout",
     "output_type": "stream",
     "text": [
      "Epoch 1/8\n",
      "69/69 [==============================] - 2s 22ms/step - loss: 3.5621 - accuracy: 0.4123 - val_loss: 0.9017 - val_accuracy: 0.6931\n",
      "Epoch 2/8\n",
      "69/69 [==============================] - 1s 20ms/step - loss: 0.6540 - accuracy: 0.7868 - val_loss: 0.4466 - val_accuracy: 0.8610\n",
      "Epoch 3/8\n",
      "69/69 [==============================] - 1s 20ms/step - loss: 0.3096 - accuracy: 0.9041 - val_loss: 0.3404 - val_accuracy: 0.8880\n",
      "Epoch 4/8\n",
      "69/69 [==============================] - 1s 20ms/step - loss: 0.1979 - accuracy: 0.9400 - val_loss: 0.2932 - val_accuracy: 0.9228\n",
      "Epoch 5/8\n",
      "69/69 [==============================] - 1s 21ms/step - loss: 0.1681 - accuracy: 0.9468 - val_loss: 0.2533 - val_accuracy: 0.9286\n",
      "Epoch 6/8\n",
      "69/69 [==============================] - 1s 21ms/step - loss: 0.1478 - accuracy: 0.9550 - val_loss: 0.2927 - val_accuracy: 0.9344\n",
      "Epoch 7/8\n",
      "69/69 [==============================] - 1s 21ms/step - loss: 0.0857 - accuracy: 0.9786 - val_loss: 0.1703 - val_accuracy: 0.9614\n",
      "Epoch 8/8\n",
      "69/69 [==============================] - 1s 20ms/step - loss: 0.0554 - accuracy: 0.9891 - val_loss: 0.2315 - val_accuracy: 0.9440\n"
     ]
    },
    {
     "data": {
      "text/plain": [
       "<tensorflow.python.keras.callbacks.History at 0x19d0d714130>"
      ]
     },
     "execution_count": 12,
     "metadata": {},
     "output_type": "execute_result"
    }
   ],
   "source": [
    "model = models.Sequential()\n",
    "model.add(layers.Conv2D(28, (3,3), activation='relu', input_shape=(28,28,3)))\n",
    "model.add(layers.MaxPooling2D((2,2)))\n",
    "model.add(layers.Conv2D(56,(3,3), activation='relu'))\n",
    "model.add(layers.MaxPooling2D((2,2)))\n",
    "model.add(layers.Conv2D(56, (3,3), activation='relu'))\n",
    "model.add(layers.Flatten())\n",
    "model.add(layers.Dense(56, activation='relu'))\n",
    "model.add(layers.Dense(15, activation='softmax'))\n",
    "\n",
    "model.compile(optimizer='adam', loss='sparse_categorical_crossentropy', metrics=['accuracy'])\n",
    "\n",
    "model.fit(training_images, training_labels, epochs=8, validation_data=(testing_images, testing_labels))\n"
   ]
  },
  {
   "cell_type": "code",
   "execution_count": 13,
   "id": "3df5110e",
   "metadata": {},
   "outputs": [
    {
     "name": "stdout",
     "output_type": "stream",
     "text": [
      "17/17 [==============================] - 0s 7ms/step - loss: 0.2315 - accuracy: 0.9440\n",
      "accuracy:0.9440154433250427\n",
      "loss:0.23145529627799988\n",
      "INFO:tensorflow:Assets written to: sign_classifier.model\\assets\n"
     ]
    }
   ],
   "source": [
    "loss, accuracy = model.evaluate(testing_images, testing_labels)\n",
    "print(f\"accuracy:{accuracy}\")\n",
    "print(f\"loss:{loss}\")\n",
    "\n",
    "model.save(\"sign_classifier.model\")"
   ]
  },
  {
   "cell_type": "code",
   "execution_count": 14,
   "id": "fce46690",
   "metadata": {},
   "outputs": [
    {
     "data": {
      "image/png": "[encoded data removed]",
      "text/plain": [
       "<Figure size 432x288 with 1 Axes>"
      ]
     },
     "metadata": {
      "needs_background": "light"
     },
     "output_type": "display_data"
    },
    {
     "name": "stdout",
     "output_type": "stream",
     "text": [
      "7\n",
      "predicition is A-18b\n"
     ]
    }
   ],
   "source": [
    "img_zwierz2 = cv2.imread(r\"C:\\Users\\lenovo\\Desktop\\limit-speed-classifier\\fast_test_data\\zwierz2.png\")\n",
    "\n",
    "img_zwierz2 = cv2.resize(img_zwierz2, (28, 28))\n",
    "img_zwierz2 = cv2.cvtColor(img_zwierz2, cv2.COLOR_BGR2RGB)\n",
    "\n",
    "\n",
    "plt.imshow(img_zwierz2)\n",
    "plt.show()\n",
    "\n",
    "\n",
    "prediction = model.predict(np.array([img_zwierz2]))\n",
    "index = np.argmax(prediction)\n",
    "print(index)\n",
    "print(f'predicition is {CATEGORIES[index]}')\n"
   ]
  },
  {
   "cell_type": "code",
   "execution_count": null,
   "id": "0782d732",
   "metadata": {},
   "outputs": [],
   "source": []
  }
 ],
 "metadata": {
  "kernelspec": {
   "display_name": "Python 3",
   "language": "python",
   "name": "python3"
  },
  "language_info": {
   "codemirror_mode": {
    "name": "ipython",
    "version": 3
   },
   "file_extension": ".py",
   "mimetype": "text/x-python",
   "name": "python",
   "nbconvert_exporter": "python",
   "pygments_lexer": "ipython3",
   "version": "3.8.8"
  }
 },
 "nbformat": 4,
 "nbformat_minor": 5
}
